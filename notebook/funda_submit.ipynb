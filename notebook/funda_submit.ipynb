{
  "nbformat": 4,
  "nbformat_minor": 0,
  "metadata": {
    "colab": {
      "name": "funda_submit.ipynb",
      "provenance": []
    },
    "kernelspec": {
      "name": "python3",
      "display_name": "Python 3"
    }
  },
  "cells": [
    {
      "cell_type": "code",
      "metadata": {
        "id": "fK4GYrZEhzIg",
        "colab_type": "code",
        "colab": {}
      },
      "source": [
        "import numpy as np\n",
        "import pandas as pd"
      ],
      "execution_count": 35,
      "outputs": []
    },
    {
      "cell_type": "code",
      "metadata": {
        "id": "jWEkGlbimhw2",
        "colab_type": "code",
        "colab": {}
      },
      "source": [
        "# google drive data mount \n",
        "funda_train = pd.read_csv(\"/content/drive/My Drive/Colab Notebooks/funda_train.csv\")\n",
        "submission = pd.read_csv(\"/content/drive/My Drive/Colab Notebooks/submission.csv\")"
      ],
      "execution_count": 36,
      "outputs": []
    },
    {
      "cell_type": "code",
      "metadata": {
        "id": "MwNdkeXnm-Xy",
        "colab_type": "code",
        "colab": {
          "base_uri": "https://localhost:8080/",
          "height": 200
        },
        "outputId": "192a2e8c-39a5-4559-c858-a9cc45d412ef"
      },
      "source": [
        "funda_train.head()"
      ],
      "execution_count": 37,
      "outputs": [
        {
          "output_type": "execute_result",
          "data": {
            "text/html": [
              "<div>\n",
              "<style scoped>\n",
              "    .dataframe tbody tr th:only-of-type {\n",
              "        vertical-align: middle;\n",
              "    }\n",
              "\n",
              "    .dataframe tbody tr th {\n",
              "        vertical-align: top;\n",
              "    }\n",
              "\n",
              "    .dataframe thead th {\n",
              "        text-align: right;\n",
              "    }\n",
              "</style>\n",
              "<table border=\"1\" class=\"dataframe\">\n",
              "  <thead>\n",
              "    <tr style=\"text-align: right;\">\n",
              "      <th></th>\n",
              "      <th>store_id</th>\n",
              "      <th>card_id</th>\n",
              "      <th>card_company</th>\n",
              "      <th>transacted_date</th>\n",
              "      <th>transacted_time</th>\n",
              "      <th>installment_term</th>\n",
              "      <th>region</th>\n",
              "      <th>type_of_business</th>\n",
              "      <th>amount</th>\n",
              "    </tr>\n",
              "  </thead>\n",
              "  <tbody>\n",
              "    <tr>\n",
              "      <th>0</th>\n",
              "      <td>0</td>\n",
              "      <td>0</td>\n",
              "      <td>b</td>\n",
              "      <td>2016-06-01</td>\n",
              "      <td>13:13</td>\n",
              "      <td>0</td>\n",
              "      <td>NaN</td>\n",
              "      <td>기타 미용업</td>\n",
              "      <td>1857.14286</td>\n",
              "    </tr>\n",
              "    <tr>\n",
              "      <th>1</th>\n",
              "      <td>0</td>\n",
              "      <td>1</td>\n",
              "      <td>h</td>\n",
              "      <td>2016-06-01</td>\n",
              "      <td>18:12</td>\n",
              "      <td>0</td>\n",
              "      <td>NaN</td>\n",
              "      <td>기타 미용업</td>\n",
              "      <td>857.14286</td>\n",
              "    </tr>\n",
              "    <tr>\n",
              "      <th>2</th>\n",
              "      <td>0</td>\n",
              "      <td>2</td>\n",
              "      <td>c</td>\n",
              "      <td>2016-06-01</td>\n",
              "      <td>18:52</td>\n",
              "      <td>0</td>\n",
              "      <td>NaN</td>\n",
              "      <td>기타 미용업</td>\n",
              "      <td>2000.00000</td>\n",
              "    </tr>\n",
              "    <tr>\n",
              "      <th>3</th>\n",
              "      <td>0</td>\n",
              "      <td>3</td>\n",
              "      <td>a</td>\n",
              "      <td>2016-06-01</td>\n",
              "      <td>20:22</td>\n",
              "      <td>0</td>\n",
              "      <td>NaN</td>\n",
              "      <td>기타 미용업</td>\n",
              "      <td>7857.14286</td>\n",
              "    </tr>\n",
              "    <tr>\n",
              "      <th>4</th>\n",
              "      <td>0</td>\n",
              "      <td>4</td>\n",
              "      <td>c</td>\n",
              "      <td>2016-06-02</td>\n",
              "      <td>11:06</td>\n",
              "      <td>0</td>\n",
              "      <td>NaN</td>\n",
              "      <td>기타 미용업</td>\n",
              "      <td>2000.00000</td>\n",
              "    </tr>\n",
              "  </tbody>\n",
              "</table>\n",
              "</div>"
            ],
            "text/plain": [
              "   store_id  card_id card_company transacted_date transacted_time  \\\n",
              "0         0        0            b      2016-06-01           13:13   \n",
              "1         0        1            h      2016-06-01           18:12   \n",
              "2         0        2            c      2016-06-01           18:52   \n",
              "3         0        3            a      2016-06-01           20:22   \n",
              "4         0        4            c      2016-06-02           11:06   \n",
              "\n",
              "   installment_term region type_of_business     amount  \n",
              "0                 0    NaN           기타 미용업 1857.14286  \n",
              "1                 0    NaN           기타 미용업  857.14286  \n",
              "2                 0    NaN           기타 미용업 2000.00000  \n",
              "3                 0    NaN           기타 미용업 7857.14286  \n",
              "4                 0    NaN           기타 미용업 2000.00000  "
            ]
          },
          "metadata": {
            "tags": []
          },
          "execution_count": 37
        }
      ]
    },
    {
      "cell_type": "code",
      "metadata": {
        "id": "y_fJmM-ayaCL",
        "colab_type": "code",
        "colab": {
          "base_uri": "https://localhost:8080/",
          "height": 35
        },
        "outputId": "c973e9d4-1e4d-4bec-a4cc-e1f181463b9f"
      },
      "source": [
        "funda_train.shape"
      ],
      "execution_count": 38,
      "outputs": [
        {
          "output_type": "execute_result",
          "data": {
            "text/plain": [
              "(6556613, 9)"
            ]
          },
          "metadata": {
            "tags": []
          },
          "execution_count": 38
        }
      ]
    },
    {
      "cell_type": "code",
      "metadata": {
        "id": "ZRdHiI-ynE5j",
        "colab_type": "code",
        "colab": {
          "base_uri": "https://localhost:8080/",
          "height": 200
        },
        "outputId": "8f16109f-a168-478d-bbbf-4fb80acaba79"
      },
      "source": [
        " submission.head()"
      ],
      "execution_count": 39,
      "outputs": [
        {
          "output_type": "execute_result",
          "data": {
            "text/html": [
              "<div>\n",
              "<style scoped>\n",
              "    .dataframe tbody tr th:only-of-type {\n",
              "        vertical-align: middle;\n",
              "    }\n",
              "\n",
              "    .dataframe tbody tr th {\n",
              "        vertical-align: top;\n",
              "    }\n",
              "\n",
              "    .dataframe thead th {\n",
              "        text-align: right;\n",
              "    }\n",
              "</style>\n",
              "<table border=\"1\" class=\"dataframe\">\n",
              "  <thead>\n",
              "    <tr style=\"text-align: right;\">\n",
              "      <th></th>\n",
              "      <th>store_id</th>\n",
              "      <th>amount</th>\n",
              "    </tr>\n",
              "  </thead>\n",
              "  <tbody>\n",
              "    <tr>\n",
              "      <th>0</th>\n",
              "      <td>0</td>\n",
              "      <td>0</td>\n",
              "    </tr>\n",
              "    <tr>\n",
              "      <th>1</th>\n",
              "      <td>1</td>\n",
              "      <td>0</td>\n",
              "    </tr>\n",
              "    <tr>\n",
              "      <th>2</th>\n",
              "      <td>2</td>\n",
              "      <td>0</td>\n",
              "    </tr>\n",
              "    <tr>\n",
              "      <th>3</th>\n",
              "      <td>4</td>\n",
              "      <td>0</td>\n",
              "    </tr>\n",
              "    <tr>\n",
              "      <th>4</th>\n",
              "      <td>5</td>\n",
              "      <td>0</td>\n",
              "    </tr>\n",
              "  </tbody>\n",
              "</table>\n",
              "</div>"
            ],
            "text/plain": [
              "   store_id  amount\n",
              "0         0       0\n",
              "1         1       0\n",
              "2         2       0\n",
              "3         4       0\n",
              "4         5       0"
            ]
          },
          "metadata": {
            "tags": []
          },
          "execution_count": 39
        }
      ]
    },
    {
      "cell_type": "code",
      "metadata": {
        "id": "O4CT9Fn3xCwr",
        "colab_type": "code",
        "colab": {
          "base_uri": "https://localhost:8080/",
          "height": 35
        },
        "outputId": "433fb4d7-84da-4091-e12e-03fa1dd4b4bb"
      },
      "source": [
        "submission.shape"
      ],
      "execution_count": 40,
      "outputs": [
        {
          "output_type": "execute_result",
          "data": {
            "text/plain": [
              "(1967, 2)"
            ]
          },
          "metadata": {
            "tags": []
          },
          "execution_count": 40
        }
      ]
    },
    {
      "cell_type": "code",
      "metadata": {
        "id": "6_dsU6BixPFR",
        "colab_type": "code",
        "colab": {}
      },
      "source": [
        "import warnings\n",
        "warnings.filterwarnings('ignore')"
      ],
      "execution_count": 41,
      "outputs": []
    },
    {
      "cell_type": "code",
      "metadata": {
        "id": "4XfpfqWQzDRv",
        "colab_type": "code",
        "colab": {}
      },
      "source": [
        "# default\n",
        "import itertools\n",
        "import numpy as np\n",
        "import pandas as pd\n",
        "import seaborn as sns\n",
        "import matplotlib.pyplot as plt\n",
        "from sklearn.externals import joblib\n",
        "from sklearn.metrics import make_scorer\n",
        "\n",
        "# 시계열\n",
        "from fbprophet import Prophet\n",
        "from datetime import datetime as dt\n",
        "from statsmodels.tsa.arima_model import ARIMA\n",
        "from dateutil.relativedelta import relativedelta\n",
        "from statsmodels.tsa.api import SimpleExpSmoothing, Holt, ExponentialSmoothing\n",
        "\n",
        "# 회귀분석\n",
        "from sklearn.svm import SVR\n",
        "from xgboost import XGBRegressor\n",
        "from sklearn.ensemble import RandomForestRegressor\n",
        "from sklearn.pipeline import make_pipeline, Pipeline\n",
        "from sklearn.ensemble import GradientBoostingRegressor\n",
        "from sklearn.model_selection import KFold, cross_val_score, GridSearchCV\n",
        "from sklearn.linear_model import LinearRegression, Ridge, Lasso, ElasticNet\n",
        "\n",
        "# NN\n",
        "from keras.layers.core import Dense, Activation, Dropout\n",
        "from keras.layers.recurrent import LSTM\n",
        "from keras.models import Sequential\n",
        "import time\n",
        "\n",
        "%matplotlib inline\n",
        "pd.options.display.max_columns = 400\n",
        "pd.options.display.float_format = '{:.5f}'.format"
      ],
      "execution_count": 42,
      "outputs": []
    },
    {
      "cell_type": "code",
      "metadata": {
        "id": "BBvk_KaE7Jwl",
        "colab_type": "code",
        "colab": {}
      },
      "source": [
        "# 평가척도 \n",
        "def mae(prediction, correct):\n",
        "  # for shape\n",
        "  prediction = np.array(prediction)\n",
        "  correct = np.array(correct)\n",
        "\n",
        "  diff = correct - prediction\n",
        "  abs_val = abs(diff)\n",
        "\n",
        "  score = abs_val.mean()\n",
        "\n",
        "  return score"
      ],
      "execution_count": 98,
      "outputs": []
    },
    {
      "cell_type": "code",
      "metadata": {
        "id": "A0s_k4xG8D4F",
        "colab_type": "code",
        "colab": {
          "base_uri": "https://localhost:8080/",
          "height": 35
        },
        "outputId": "0bbbc697-71e7-44fe-f70c-52a8f0796871"
      },
      "source": [
        "# matric object\n",
        "mae_scorer = make_scorer(mae)\n",
        "mae_scorer"
      ],
      "execution_count": 44,
      "outputs": [
        {
          "output_type": "execute_result",
          "data": {
            "text/plain": [
              "make_scorer(mae)"
            ]
          },
          "metadata": {
            "tags": []
          },
          "execution_count": 44
        }
      ]
    },
    {
      "cell_type": "code",
      "metadata": {
        "id": "0dxOmY828Ja-",
        "colab_type": "code",
        "colab": {}
      },
      "source": [
        "# for time data col\n",
        "funda_train['transacted_date'] = pd.to_datetime(funda_train['transacted_date'])"
      ],
      "execution_count": 45,
      "outputs": []
    },
    {
      "cell_type": "markdown",
      "metadata": {
        "id": "Mum51kfX_IGp",
        "colab_type": "text"
      },
      "source": [
        "time series analysis"
      ]
    },
    {
      "cell_type": "code",
      "metadata": {
        "id": "fpGCTyfC_L9p",
        "colab_type": "code",
        "colab": {}
      },
      "source": [
        "# date정보를 idx로 반환한다\n",
        "df_train = funda_train.set_index('transacted_date')"
      ],
      "execution_count": 46,
      "outputs": []
    },
    {
      "cell_type": "code",
      "metadata": {
        "id": "FT4gJOVP_W6w",
        "colab_type": "code",
        "colab": {
          "base_uri": "https://localhost:8080/",
          "height": 170
        },
        "outputId": "d47c000b-0bf8-43a7-8805-59fdb57336ed"
      },
      "source": [
        "df_train.head(3)"
      ],
      "execution_count": 47,
      "outputs": [
        {
          "output_type": "execute_result",
          "data": {
            "text/html": [
              "<div>\n",
              "<style scoped>\n",
              "    .dataframe tbody tr th:only-of-type {\n",
              "        vertical-align: middle;\n",
              "    }\n",
              "\n",
              "    .dataframe tbody tr th {\n",
              "        vertical-align: top;\n",
              "    }\n",
              "\n",
              "    .dataframe thead th {\n",
              "        text-align: right;\n",
              "    }\n",
              "</style>\n",
              "<table border=\"1\" class=\"dataframe\">\n",
              "  <thead>\n",
              "    <tr style=\"text-align: right;\">\n",
              "      <th></th>\n",
              "      <th>store_id</th>\n",
              "      <th>card_id</th>\n",
              "      <th>card_company</th>\n",
              "      <th>transacted_time</th>\n",
              "      <th>installment_term</th>\n",
              "      <th>region</th>\n",
              "      <th>type_of_business</th>\n",
              "      <th>amount</th>\n",
              "    </tr>\n",
              "    <tr>\n",
              "      <th>transacted_date</th>\n",
              "      <th></th>\n",
              "      <th></th>\n",
              "      <th></th>\n",
              "      <th></th>\n",
              "      <th></th>\n",
              "      <th></th>\n",
              "      <th></th>\n",
              "      <th></th>\n",
              "    </tr>\n",
              "  </thead>\n",
              "  <tbody>\n",
              "    <tr>\n",
              "      <th>2016-06-01</th>\n",
              "      <td>0</td>\n",
              "      <td>0</td>\n",
              "      <td>b</td>\n",
              "      <td>13:13</td>\n",
              "      <td>0</td>\n",
              "      <td>NaN</td>\n",
              "      <td>기타 미용업</td>\n",
              "      <td>1857.14286</td>\n",
              "    </tr>\n",
              "    <tr>\n",
              "      <th>2016-06-01</th>\n",
              "      <td>0</td>\n",
              "      <td>1</td>\n",
              "      <td>h</td>\n",
              "      <td>18:12</td>\n",
              "      <td>0</td>\n",
              "      <td>NaN</td>\n",
              "      <td>기타 미용업</td>\n",
              "      <td>857.14286</td>\n",
              "    </tr>\n",
              "    <tr>\n",
              "      <th>2016-06-01</th>\n",
              "      <td>0</td>\n",
              "      <td>2</td>\n",
              "      <td>c</td>\n",
              "      <td>18:52</td>\n",
              "      <td>0</td>\n",
              "      <td>NaN</td>\n",
              "      <td>기타 미용업</td>\n",
              "      <td>2000.00000</td>\n",
              "    </tr>\n",
              "  </tbody>\n",
              "</table>\n",
              "</div>"
            ],
            "text/plain": [
              "                 store_id  card_id card_company transacted_time  \\\n",
              "transacted_date                                                   \n",
              "2016-06-01              0        0            b           13:13   \n",
              "2016-06-01              0        1            h           18:12   \n",
              "2016-06-01              0        2            c           18:52   \n",
              "\n",
              "                 installment_term region type_of_business     amount  \n",
              "transacted_date                                                       \n",
              "2016-06-01                      0    NaN           기타 미용업 1857.14286  \n",
              "2016-06-01                      0    NaN           기타 미용업  857.14286  \n",
              "2016-06-01                      0    NaN           기타 미용업 2000.00000  "
            ]
          },
          "metadata": {
            "tags": []
          },
          "execution_count": 47
        }
      ]
    },
    {
      "cell_type": "code",
      "metadata": {
        "id": "QTXmG_oQ3epX",
        "colab_type": "code",
        "colab": {
          "base_uri": "https://localhost:8080/",
          "height": 35
        },
        "outputId": "4c6fdecd-874b-44bc-d730-32d5357c9074"
      },
      "source": [
        "df_train.shape"
      ],
      "execution_count": 48,
      "outputs": [
        {
          "output_type": "execute_result",
          "data": {
            "text/plain": [
              "(6556613, 8)"
            ]
          },
          "metadata": {
            "tags": []
          },
          "execution_count": 48
        }
      ]
    },
    {
      "cell_type": "code",
      "metadata": {
        "id": "XekS2xF__YHd",
        "colab_type": "code",
        "colab": {}
      },
      "source": [
        "# 시간단위 데이터를 일단위로 resample진행\n",
        "# 일별로 읽을 수 있는 새로운 feature생성 \n",
        "def resample_day(train_df):\n",
        "    df_day = pd.DataFrame()         # 최종 반환할 데이터프레임 \n",
        "    \n",
        "    for i in train_df.store_id.unique():\n",
        "        df_num = train_df[train_df.store_id == i]\n",
        "\n",
        "        count_cols = df_num['card_id'].resample(rule='d').count().rename('num_of_pay') # 'card_id' 의 일별 counting을 통해 일 거래 횟수 확인\n",
        "        # 'card_id' value count가 2보다 크면 단골인 것으로 판단하고 단골 방문 횟수 확인\n",
        "        revisit_idx = df_num.card_id.value_counts().reset_index().query(\"card_id > 2\")[\"index\"].values \n",
        "        revisit_ct = df_num[df_num.card_id.isin(revisit_idx)].card_id.resample(rule='d').count().rename('num_of_revisit')  \n",
        "        sum_cols = df_num[['installment_term', 'amount']].resample(rule='d').sum() # 할부 개월수와 매출액은 일 단위로 합\n",
        "\n",
        "        df_num_day = pd.concat([count_cols, revisit_ct, sum_cols], axis=1)\n",
        "\n",
        "        df_num_day.insert(0, 'store_id', i)\n",
        "        df_num_day.insert(4, 'region', df_num[df_num.store_id == i].region.unique()[0])\n",
        "        df_num_day.insert(5, 'type_of_business', df_num[df_num.store_id == i].type_of_business.unique()[0])\n",
        "\n",
        "        df_day = pd.concat([df_day, df_num_day], axis=0)\n",
        "        \n",
        "    df_day.insert(1, 'day_of_week', df_day.index.dayofweek)\n",
        "    df_day.insert(2, 'business_day', df_day.day_of_week.replace({0:1, 2:1, 3:1, 4:1, 5:0, 6:0}).values)\n",
        "    df_day.num_of_revisit.fillna(0, inplace=True)\n",
        "    \n",
        "    return df_day"
      ],
      "execution_count": 52,
      "outputs": []
    },
    {
      "cell_type": "code",
      "metadata": {
        "id": "ZxAVedWIG3Vy",
        "colab_type": "code",
        "colab": {
          "base_uri": "https://localhost:8080/",
          "height": 52
        },
        "outputId": "fb4861a8-486e-43c3-f58c-723ebbe7f118"
      },
      "source": [
        "# 확인\n",
        "%%time\n",
        "df_day = resample_day(df_train)"
      ],
      "execution_count": 53,
      "outputs": [
        {
          "output_type": "stream",
          "text": [
            "CPU times: user 3min 19s, sys: 4.82 s, total: 3min 23s\n",
            "Wall time: 3min 24s\n"
          ],
          "name": "stdout"
        }
      ]
    },
    {
      "cell_type": "code",
      "metadata": {
        "id": "owbL_gqq2rV3",
        "colab_type": "code",
        "colab": {
          "base_uri": "https://localhost:8080/",
          "height": 35
        },
        "outputId": "decffe36-98a6-4ccb-dd96-236a5849afa7"
      },
      "source": [
        "df_day.shape"
      ],
      "execution_count": 54,
      "outputs": [
        {
          "output_type": "execute_result",
          "data": {
            "text/plain": [
              "(1839261, 9)"
            ]
          },
          "metadata": {
            "tags": []
          },
          "execution_count": 54
        }
      ]
    },
    {
      "cell_type": "code",
      "metadata": {
        "id": "XPDmhJmhG6sY",
        "colab_type": "code",
        "colab": {
          "base_uri": "https://localhost:8080/",
          "height": 190
        },
        "outputId": "0c5ceed8-9271-4d4b-939b-98474217fcf6"
      },
      "source": [
        "# 만든 데이터 확인\n",
        "df_day.head(3)"
      ],
      "execution_count": 55,
      "outputs": [
        {
          "output_type": "execute_result",
          "data": {
            "text/html": [
              "<div>\n",
              "<style scoped>\n",
              "    .dataframe tbody tr th:only-of-type {\n",
              "        vertical-align: middle;\n",
              "    }\n",
              "\n",
              "    .dataframe tbody tr th {\n",
              "        vertical-align: top;\n",
              "    }\n",
              "\n",
              "    .dataframe thead th {\n",
              "        text-align: right;\n",
              "    }\n",
              "</style>\n",
              "<table border=\"1\" class=\"dataframe\">\n",
              "  <thead>\n",
              "    <tr style=\"text-align: right;\">\n",
              "      <th></th>\n",
              "      <th>store_id</th>\n",
              "      <th>day_of_week</th>\n",
              "      <th>business_day</th>\n",
              "      <th>num_of_pay</th>\n",
              "      <th>num_of_revisit</th>\n",
              "      <th>installment_term</th>\n",
              "      <th>region</th>\n",
              "      <th>type_of_business</th>\n",
              "      <th>amount</th>\n",
              "    </tr>\n",
              "    <tr>\n",
              "      <th>transacted_date</th>\n",
              "      <th></th>\n",
              "      <th></th>\n",
              "      <th></th>\n",
              "      <th></th>\n",
              "      <th></th>\n",
              "      <th></th>\n",
              "      <th></th>\n",
              "      <th></th>\n",
              "      <th></th>\n",
              "    </tr>\n",
              "  </thead>\n",
              "  <tbody>\n",
              "    <tr>\n",
              "      <th>2016-06-01</th>\n",
              "      <td>0</td>\n",
              "      <td>2</td>\n",
              "      <td>1</td>\n",
              "      <td>4</td>\n",
              "      <td>4.00000</td>\n",
              "      <td>0</td>\n",
              "      <td>NaN</td>\n",
              "      <td>기타 미용업</td>\n",
              "      <td>12571.42857</td>\n",
              "    </tr>\n",
              "    <tr>\n",
              "      <th>2016-06-02</th>\n",
              "      <td>0</td>\n",
              "      <td>3</td>\n",
              "      <td>1</td>\n",
              "      <td>7</td>\n",
              "      <td>3.00000</td>\n",
              "      <td>0</td>\n",
              "      <td>NaN</td>\n",
              "      <td>기타 미용업</td>\n",
              "      <td>40571.42857</td>\n",
              "    </tr>\n",
              "    <tr>\n",
              "      <th>2016-06-03</th>\n",
              "      <td>0</td>\n",
              "      <td>4</td>\n",
              "      <td>1</td>\n",
              "      <td>3</td>\n",
              "      <td>2.00000</td>\n",
              "      <td>0</td>\n",
              "      <td>NaN</td>\n",
              "      <td>기타 미용업</td>\n",
              "      <td>18142.85714</td>\n",
              "    </tr>\n",
              "  </tbody>\n",
              "</table>\n",
              "</div>"
            ],
            "text/plain": [
              "                 store_id  day_of_week  business_day  num_of_pay  \\\n",
              "transacted_date                                                    \n",
              "2016-06-01              0            2             1           4   \n",
              "2016-06-02              0            3             1           7   \n",
              "2016-06-03              0            4             1           3   \n",
              "\n",
              "                 num_of_revisit  installment_term region type_of_business  \\\n",
              "transacted_date                                                             \n",
              "2016-06-01              4.00000                 0    NaN           기타 미용업   \n",
              "2016-06-02              3.00000                 0    NaN           기타 미용업   \n",
              "2016-06-03              2.00000                 0    NaN           기타 미용업   \n",
              "\n",
              "                     amount  \n",
              "transacted_date              \n",
              "2016-06-01      12571.42857  \n",
              "2016-06-02      40571.42857  \n",
              "2016-06-03      18142.85714  "
            ]
          },
          "metadata": {
            "tags": []
          },
          "execution_count": 55
        }
      ]
    },
    {
      "cell_type": "code",
      "metadata": {
        "id": "TVMFwj2qytf7",
        "colab_type": "code",
        "colab": {
          "base_uri": "https://localhost:8080/",
          "height": 195
        },
        "outputId": "fdc4c864-b2d5-4c36-a264-7492690c6b6e"
      },
      "source": [
        "# null값 처리 \n",
        "df_day.isnull().sum()"
      ],
      "execution_count": 56,
      "outputs": [
        {
          "output_type": "execute_result",
          "data": {
            "text/plain": [
              "store_id                  0\n",
              "day_of_week               0\n",
              "business_day              0\n",
              "num_of_pay                0\n",
              "num_of_revisit            0\n",
              "installment_term          0\n",
              "region               629927\n",
              "type_of_business    1087791\n",
              "amount                    0\n",
              "dtype: int64"
            ]
          },
          "metadata": {
            "tags": []
          },
          "execution_count": 56
        }
      ]
    },
    {
      "cell_type": "code",
      "metadata": {
        "id": "U10cinImywtO",
        "colab_type": "code",
        "colab": {}
      },
      "source": [
        "# 파일 저장 \n",
        "df_day.to_csv(\"/content/drive/My Drive/Colab Notebooks/funda_train_day.csv\")"
      ],
      "execution_count": 57,
      "outputs": []
    },
    {
      "cell_type": "code",
      "metadata": {
        "id": "Ht3PE-e6y-X-",
        "colab_type": "code",
        "colab": {}
      },
      "source": [
        "df_day = pd.read_csv(\"/content/drive/My Drive/Colab Notebooks/funda_train_day.csv\") # 불러와서 파일 사용 및 처리 \n",
        "df_day['transacted_date'] = pd.to_datetime(df_day['transacted_date'])\n",
        "df_day = df_day.set_index('transacted_date')"
      ],
      "execution_count": 58,
      "outputs": []
    },
    {
      "cell_type": "code",
      "metadata": {
        "id": "avVEeMjyzEPv",
        "colab_type": "code",
        "colab": {
          "base_uri": "https://localhost:8080/",
          "height": 261
        },
        "outputId": "a70de547-38b9-4cd2-8aab-2836135d3b08"
      },
      "source": [
        "# 각 col상관관계 확인 \n",
        "daily_corr = df_day.corr()\n",
        "daily_corr"
      ],
      "execution_count": 59,
      "outputs": [
        {
          "output_type": "execute_result",
          "data": {
            "text/html": [
              "<div>\n",
              "<style scoped>\n",
              "    .dataframe tbody tr th:only-of-type {\n",
              "        vertical-align: middle;\n",
              "    }\n",
              "\n",
              "    .dataframe tbody tr th {\n",
              "        vertical-align: top;\n",
              "    }\n",
              "\n",
              "    .dataframe thead th {\n",
              "        text-align: right;\n",
              "    }\n",
              "</style>\n",
              "<table border=\"1\" class=\"dataframe\">\n",
              "  <thead>\n",
              "    <tr style=\"text-align: right;\">\n",
              "      <th></th>\n",
              "      <th>store_id</th>\n",
              "      <th>day_of_week</th>\n",
              "      <th>business_day</th>\n",
              "      <th>num_of_pay</th>\n",
              "      <th>num_of_revisit</th>\n",
              "      <th>installment_term</th>\n",
              "      <th>amount</th>\n",
              "    </tr>\n",
              "  </thead>\n",
              "  <tbody>\n",
              "    <tr>\n",
              "      <th>store_id</th>\n",
              "      <td>1.00000</td>\n",
              "      <td>-0.00004</td>\n",
              "      <td>0.00001</td>\n",
              "      <td>0.04237</td>\n",
              "      <td>0.00806</td>\n",
              "      <td>-0.01218</td>\n",
              "      <td>-0.01835</td>\n",
              "    </tr>\n",
              "    <tr>\n",
              "      <th>day_of_week</th>\n",
              "      <td>-0.00004</td>\n",
              "      <td>1.00000</td>\n",
              "      <td>-0.79052</td>\n",
              "      <td>0.01672</td>\n",
              "      <td>-0.03869</td>\n",
              "      <td>-0.01395</td>\n",
              "      <td>-0.02150</td>\n",
              "    </tr>\n",
              "    <tr>\n",
              "      <th>business_day</th>\n",
              "      <td>0.00001</td>\n",
              "      <td>-0.79052</td>\n",
              "      <td>1.00000</td>\n",
              "      <td>-0.00460</td>\n",
              "      <td>0.05721</td>\n",
              "      <td>0.01530</td>\n",
              "      <td>0.02947</td>\n",
              "    </tr>\n",
              "    <tr>\n",
              "      <th>num_of_pay</th>\n",
              "      <td>0.04237</td>\n",
              "      <td>0.01672</td>\n",
              "      <td>-0.00460</td>\n",
              "      <td>1.00000</td>\n",
              "      <td>0.70112</td>\n",
              "      <td>0.09414</td>\n",
              "      <td>0.26525</td>\n",
              "    </tr>\n",
              "    <tr>\n",
              "      <th>num_of_revisit</th>\n",
              "      <td>0.00806</td>\n",
              "      <td>-0.03869</td>\n",
              "      <td>0.05721</td>\n",
              "      <td>0.70112</td>\n",
              "      <td>1.00000</td>\n",
              "      <td>0.07113</td>\n",
              "      <td>0.26067</td>\n",
              "    </tr>\n",
              "    <tr>\n",
              "      <th>installment_term</th>\n",
              "      <td>-0.01218</td>\n",
              "      <td>-0.01395</td>\n",
              "      <td>0.01530</td>\n",
              "      <td>0.09414</td>\n",
              "      <td>0.07113</td>\n",
              "      <td>1.00000</td>\n",
              "      <td>0.26750</td>\n",
              "    </tr>\n",
              "    <tr>\n",
              "      <th>amount</th>\n",
              "      <td>-0.01835</td>\n",
              "      <td>-0.02150</td>\n",
              "      <td>0.02947</td>\n",
              "      <td>0.26525</td>\n",
              "      <td>0.26067</td>\n",
              "      <td>0.26750</td>\n",
              "      <td>1.00000</td>\n",
              "    </tr>\n",
              "  </tbody>\n",
              "</table>\n",
              "</div>"
            ],
            "text/plain": [
              "                  store_id  day_of_week  business_day  num_of_pay  \\\n",
              "store_id           1.00000     -0.00004       0.00001     0.04237   \n",
              "day_of_week       -0.00004      1.00000      -0.79052     0.01672   \n",
              "business_day       0.00001     -0.79052       1.00000    -0.00460   \n",
              "num_of_pay         0.04237      0.01672      -0.00460     1.00000   \n",
              "num_of_revisit     0.00806     -0.03869       0.05721     0.70112   \n",
              "installment_term  -0.01218     -0.01395       0.01530     0.09414   \n",
              "amount            -0.01835     -0.02150       0.02947     0.26525   \n",
              "\n",
              "                  num_of_revisit  installment_term   amount  \n",
              "store_id                 0.00806          -0.01218 -0.01835  \n",
              "day_of_week             -0.03869          -0.01395 -0.02150  \n",
              "business_day             0.05721           0.01530  0.02947  \n",
              "num_of_pay               0.70112           0.09414  0.26525  \n",
              "num_of_revisit           1.00000           0.07113  0.26067  \n",
              "installment_term         0.07113           1.00000  0.26750  \n",
              "amount                   0.26067           0.26750  1.00000  "
            ]
          },
          "metadata": {
            "tags": []
          },
          "execution_count": 59
        }
      ]
    },
    {
      "cell_type": "code",
      "metadata": {
        "id": "RW-a51XKzP42",
        "colab_type": "code",
        "colab": {}
      },
      "source": [
        "# 다시 month단위로 resample\n",
        "def resample_month(frame_day):\n",
        "  sum_cols = ['num_of_pay', 'num_of_revisit', 'installment_term', 'amount']\n",
        "  df_monthly = pd.DataFrame() # 새롭게 배정할 데이터프레임 설정\n",
        "\n",
        "  for i in frame_day.store_id.unique():\n",
        "    df_set = frame_day[frame_day.store_id == i] # 각 상점의 id가 같은 것끼리 묶는다\n",
        "\n",
        "    # nan값이 발생하는 경우를 없애기 위해 이전, 이후 달에 대한 정보를 추가한 후 제거\n",
        "    prev_date = pd.date_range(start=(df_set.index[0] - relativedelta(months=1)), end=(df_set.index[0] - relativedelta(months=1)))\n",
        "    add_date = pd.date_range(start=(df_set.index[-1] + relativedelta(months=1)), end=(df_set.index[-1] + relativedelta(months=1)))\n",
        "    df_set = pd.concat([pd.DataFrame(index=prev_date), df_set, pd.DataFrame(index=add_date)], axis=0)\n",
        "\n",
        "    df_set.loc[dt.strftime(df_set.index[0], '%Y-%m'), :] = 1\n",
        "    df_set.loc[dt.strftime(df_set.index[-1], '%Y-%m'), :] = 1\n",
        "\n",
        "    tot_day = df_set[df_set.amount != 0].day_of_week.resample(rule='m').count().rename('real_tot_day')\n",
        "    business = df_set[df_set.amount != 0].business_day.resample(rule='m').sum().rename('real_business_day')\n",
        "\n",
        "    business = business.drop([business.index[0], business.index[-1]], axis=0)\n",
        "    tot_day = tot_day.drop([tot_day.index[0], tot_day.index[-1]], axis=0)\n",
        "    df_set = df_set.drop([df_set.index[0], df_set.index[-1]], axis=0)\n",
        "\n",
        "    df = pd.concat([tot_day, business, df_set[sum_cols].resample(rule='m').sum()], axis=1)\n",
        "\n",
        "    df.insert(0, 'store_id', i)\n",
        "    df.insert(6, 'region', df_set.region.values[0])\n",
        "    df.insert(7, 'type_of_business', df_set.type_of_business.values[0])\n",
        "\n",
        "    df_monthly = pd.concat([df_monthly, df], axis=0)\n",
        "   \n",
        "  return df_monthly"
      ],
      "execution_count": 73,
      "outputs": []
    },
    {
      "cell_type": "code",
      "metadata": {
        "id": "zkYwvM_y1pv_",
        "colab_type": "code",
        "colab": {
          "base_uri": "https://localhost:8080/",
          "height": 52
        },
        "outputId": "78f62600-55c2-47cb-f426-f742daf91a16"
      },
      "source": [
        "%%time\n",
        "df_month = resample_month(df_day)"
      ],
      "execution_count": 74,
      "outputs": [
        {
          "output_type": "stream",
          "text": [
            "CPU times: user 1min 10s, sys: 287 ms, total: 1min 10s\n",
            "Wall time: 1min 10s\n"
          ],
          "name": "stdout"
        }
      ]
    },
    {
      "cell_type": "code",
      "metadata": {
        "id": "2PWuP4T_1shL",
        "colab_type": "code",
        "colab": {
          "base_uri": "https://localhost:8080/",
          "height": 195
        },
        "outputId": "abe49c91-a49f-4c4c-d37b-98dd7e9074ee"
      },
      "source": [
        "# null값 확인\n",
        "df_month.isnull().sum()"
      ],
      "execution_count": 75,
      "outputs": [
        {
          "output_type": "execute_result",
          "data": {
            "text/plain": [
              "store_id                 0\n",
              "real_tot_day             0\n",
              "real_business_day        0\n",
              "num_of_pay               0\n",
              "num_of_revisit           0\n",
              "installment_term         0\n",
              "region               20900\n",
              "type_of_business     36048\n",
              "amount                   0\n",
              "dtype: int64"
            ]
          },
          "metadata": {
            "tags": []
          },
          "execution_count": 75
        }
      ]
    },
    {
      "cell_type": "code",
      "metadata": {
        "id": "b9MgYUc_2WFW",
        "colab_type": "code",
        "colab": {
          "base_uri": "https://localhost:8080/",
          "height": 35
        },
        "outputId": "27e5bdeb-c2e3-4803-be33-e769a9cdc195"
      },
      "source": [
        "df_month.shape"
      ],
      "execution_count": 76,
      "outputs": [
        {
          "output_type": "execute_result",
          "data": {
            "text/plain": [
              "(60915, 9)"
            ]
          },
          "metadata": {
            "tags": []
          },
          "execution_count": 76
        }
      ]
    },
    {
      "cell_type": "code",
      "metadata": {
        "id": "LCdpyEEC2h2Z",
        "colab_type": "code",
        "colab": {
          "base_uri": "https://localhost:8080/",
          "height": 210
        },
        "outputId": "7389a2d9-cc42-412e-9955-fe09e1062bce"
      },
      "source": [
        "df_month.head(3)"
      ],
      "execution_count": 77,
      "outputs": [
        {
          "output_type": "execute_result",
          "data": {
            "text/html": [
              "<div>\n",
              "<style scoped>\n",
              "    .dataframe tbody tr th:only-of-type {\n",
              "        vertical-align: middle;\n",
              "    }\n",
              "\n",
              "    .dataframe tbody tr th {\n",
              "        vertical-align: top;\n",
              "    }\n",
              "\n",
              "    .dataframe thead th {\n",
              "        text-align: right;\n",
              "    }\n",
              "</style>\n",
              "<table border=\"1\" class=\"dataframe\">\n",
              "  <thead>\n",
              "    <tr style=\"text-align: right;\">\n",
              "      <th></th>\n",
              "      <th>store_id</th>\n",
              "      <th>real_tot_day</th>\n",
              "      <th>real_business_day</th>\n",
              "      <th>num_of_pay</th>\n",
              "      <th>num_of_revisit</th>\n",
              "      <th>installment_term</th>\n",
              "      <th>region</th>\n",
              "      <th>type_of_business</th>\n",
              "      <th>amount</th>\n",
              "    </tr>\n",
              "  </thead>\n",
              "  <tbody>\n",
              "    <tr>\n",
              "      <th>2016-06-30</th>\n",
              "      <td>0</td>\n",
              "      <td>25</td>\n",
              "      <td>17.00000</td>\n",
              "      <td>145.00000</td>\n",
              "      <td>77.00000</td>\n",
              "      <td>13.00000</td>\n",
              "      <td>NaN</td>\n",
              "      <td>기타 미용업</td>\n",
              "      <td>747000.00000</td>\n",
              "    </tr>\n",
              "    <tr>\n",
              "      <th>2016-07-31</th>\n",
              "      <td>0</td>\n",
              "      <td>26</td>\n",
              "      <td>16.00000</td>\n",
              "      <td>178.00000</td>\n",
              "      <td>105.00000</td>\n",
              "      <td>24.00000</td>\n",
              "      <td>NaN</td>\n",
              "      <td>기타 미용업</td>\n",
              "      <td>1005000.00000</td>\n",
              "    </tr>\n",
              "    <tr>\n",
              "      <th>2016-08-31</th>\n",
              "      <td>0</td>\n",
              "      <td>24</td>\n",
              "      <td>16.00000</td>\n",
              "      <td>171.00000</td>\n",
              "      <td>97.00000</td>\n",
              "      <td>69.00000</td>\n",
              "      <td>NaN</td>\n",
              "      <td>기타 미용업</td>\n",
              "      <td>871571.42857</td>\n",
              "    </tr>\n",
              "  </tbody>\n",
              "</table>\n",
              "</div>"
            ],
            "text/plain": [
              "            store_id  real_tot_day  real_business_day  num_of_pay  \\\n",
              "2016-06-30         0            25           17.00000   145.00000   \n",
              "2016-07-31         0            26           16.00000   178.00000   \n",
              "2016-08-31         0            24           16.00000   171.00000   \n",
              "\n",
              "            num_of_revisit  installment_term region type_of_business  \\\n",
              "2016-06-30        77.00000          13.00000    NaN           기타 미용업   \n",
              "2016-07-31       105.00000          24.00000    NaN           기타 미용업   \n",
              "2016-08-31        97.00000          69.00000    NaN           기타 미용업   \n",
              "\n",
              "                  amount  \n",
              "2016-06-30  747000.00000  \n",
              "2016-07-31 1005000.00000  \n",
              "2016-08-31  871571.42857  "
            ]
          },
          "metadata": {
            "tags": []
          },
          "execution_count": 77
        }
      ]
    },
    {
      "cell_type": "code",
      "metadata": {
        "id": "hD6R4mcX226k",
        "colab_type": "code",
        "colab": {
          "base_uri": "https://localhost:8080/",
          "height": 52
        },
        "outputId": "b11ea83e-e882-469e-f801-d5539ce823cd"
      },
      "source": [
        "# null값이 많은 두 col의 비율 확인\n",
        "print(\"region\", df_month.region.isnull().sum() / len(df_month.region))\n",
        "print(\"type_of_bissiness:\",  df_month.type_of_business.isnull().sum() / len(df_month.type_of_business))"
      ],
      "execution_count": 78,
      "outputs": [
        {
          "output_type": "stream",
          "text": [
            "region 0.34310104243618156\n",
            "type_of_bissiness: 0.5917754247722236\n"
          ],
          "name": "stdout"
        }
      ]
    },
    {
      "cell_type": "code",
      "metadata": {
        "id": "tTQPNBUT54af",
        "colab_type": "code",
        "colab": {}
      },
      "source": [
        "# null값의 비중이 높은 col은 삭제한다. \n",
        "df_month = df_month.drop(['region', 'type_of_business'], axis = 1)"
      ],
      "execution_count": 79,
      "outputs": []
    },
    {
      "cell_type": "code",
      "metadata": {
        "id": "eeOGDHH06LWB",
        "colab_type": "code",
        "colab": {
          "base_uri": "https://localhost:8080/",
          "height": 159
        },
        "outputId": "fbd0b18b-0ab2-4bf7-d45e-7cfbf295fb34"
      },
      "source": [
        "df_month.isnull().sum()"
      ],
      "execution_count": 80,
      "outputs": [
        {
          "output_type": "execute_result",
          "data": {
            "text/plain": [
              "store_id             0\n",
              "real_tot_day         0\n",
              "real_business_day    0\n",
              "num_of_pay           0\n",
              "num_of_revisit       0\n",
              "installment_term     0\n",
              "amount               0\n",
              "dtype: int64"
            ]
          },
          "metadata": {
            "tags": []
          },
          "execution_count": 80
        }
      ]
    },
    {
      "cell_type": "code",
      "metadata": {
        "id": "6vlOu6kz6OWm",
        "colab_type": "code",
        "colab": {}
      },
      "source": [
        "# month딘위 resample결과 저장 \n",
        "df_month.to_csv(\"/content/drive/My Drive/Colab Notebooks/funda_train_month.csv\")"
      ],
      "execution_count": 81,
      "outputs": []
    },
    {
      "cell_type": "code",
      "metadata": {
        "id": "OjC2ZoIG6b7v",
        "colab_type": "code",
        "colab": {}
      },
      "source": [
        "# month 단위 resample 결과 불러와 사용\n",
        "df_month = pd.read_csv(\"/content/drive/My Drive/Colab Notebooks/funda_train_month.csv\")\n",
        "df_month.rename(columns={'Unnamed: 0' : 'transacted_date'}, inplace=True)\n",
        "df_month['transacted_date'] = pd.to_datetime(df_month['transacted_date'])\n",
        "df_month = df_month.set_index('transacted_date')"
      ],
      "execution_count": 82,
      "outputs": []
    },
    {
      "cell_type": "code",
      "metadata": {
        "id": "QnVvj7JL6lW1",
        "colab_type": "code",
        "colab": {
          "base_uri": "https://localhost:8080/",
          "height": 170
        },
        "outputId": "c94e82b6-d99a-47d3-94fe-c7d0c8478086"
      },
      "source": [
        "df_month.head(3)"
      ],
      "execution_count": 83,
      "outputs": [
        {
          "output_type": "execute_result",
          "data": {
            "text/html": [
              "<div>\n",
              "<style scoped>\n",
              "    .dataframe tbody tr th:only-of-type {\n",
              "        vertical-align: middle;\n",
              "    }\n",
              "\n",
              "    .dataframe tbody tr th {\n",
              "        vertical-align: top;\n",
              "    }\n",
              "\n",
              "    .dataframe thead th {\n",
              "        text-align: right;\n",
              "    }\n",
              "</style>\n",
              "<table border=\"1\" class=\"dataframe\">\n",
              "  <thead>\n",
              "    <tr style=\"text-align: right;\">\n",
              "      <th></th>\n",
              "      <th>store_id</th>\n",
              "      <th>real_tot_day</th>\n",
              "      <th>real_business_day</th>\n",
              "      <th>num_of_pay</th>\n",
              "      <th>num_of_revisit</th>\n",
              "      <th>installment_term</th>\n",
              "      <th>amount</th>\n",
              "    </tr>\n",
              "    <tr>\n",
              "      <th>transacted_date</th>\n",
              "      <th></th>\n",
              "      <th></th>\n",
              "      <th></th>\n",
              "      <th></th>\n",
              "      <th></th>\n",
              "      <th></th>\n",
              "      <th></th>\n",
              "    </tr>\n",
              "  </thead>\n",
              "  <tbody>\n",
              "    <tr>\n",
              "      <th>2016-06-30</th>\n",
              "      <td>0</td>\n",
              "      <td>25</td>\n",
              "      <td>17.00000</td>\n",
              "      <td>145.00000</td>\n",
              "      <td>77.00000</td>\n",
              "      <td>13.00000</td>\n",
              "      <td>747000.00000</td>\n",
              "    </tr>\n",
              "    <tr>\n",
              "      <th>2016-07-31</th>\n",
              "      <td>0</td>\n",
              "      <td>26</td>\n",
              "      <td>16.00000</td>\n",
              "      <td>178.00000</td>\n",
              "      <td>105.00000</td>\n",
              "      <td>24.00000</td>\n",
              "      <td>1005000.00000</td>\n",
              "    </tr>\n",
              "    <tr>\n",
              "      <th>2016-08-31</th>\n",
              "      <td>0</td>\n",
              "      <td>24</td>\n",
              "      <td>16.00000</td>\n",
              "      <td>171.00000</td>\n",
              "      <td>97.00000</td>\n",
              "      <td>69.00000</td>\n",
              "      <td>871571.42857</td>\n",
              "    </tr>\n",
              "  </tbody>\n",
              "</table>\n",
              "</div>"
            ],
            "text/plain": [
              "                 store_id  real_tot_day  real_business_day  num_of_pay  \\\n",
              "transacted_date                                                          \n",
              "2016-06-30              0            25           17.00000   145.00000   \n",
              "2016-07-31              0            26           16.00000   178.00000   \n",
              "2016-08-31              0            24           16.00000   171.00000   \n",
              "\n",
              "                 num_of_revisit  installment_term        amount  \n",
              "transacted_date                                                  \n",
              "2016-06-30             77.00000          13.00000  747000.00000  \n",
              "2016-07-31            105.00000          24.00000 1005000.00000  \n",
              "2016-08-31             97.00000          69.00000  871571.42857  "
            ]
          },
          "metadata": {
            "tags": []
          },
          "execution_count": 83
        }
      ]
    },
    {
      "cell_type": "code",
      "metadata": {
        "id": "A035z9MJ6oFD",
        "colab_type": "code",
        "colab": {
          "base_uri": "https://localhost:8080/",
          "height": 35
        },
        "outputId": "a11bd8e7-4a28-428c-cdd9-a218c3d93ac7"
      },
      "source": [
        "df_month.shape # (5~, 7) col임을 확인 "
      ],
      "execution_count": 84,
      "outputs": [
        {
          "output_type": "execute_result",
          "data": {
            "text/plain": [
              "(60915, 7)"
            ]
          },
          "metadata": {
            "tags": []
          },
          "execution_count": 84
        }
      ]
    },
    {
      "cell_type": "code",
      "metadata": {
        "id": "y1x3Og1N6qr3",
        "colab_type": "code",
        "colab": {
          "base_uri": "https://localhost:8080/",
          "height": 291
        },
        "outputId": "801513a1-203d-47fa-ded2-d608b45be218"
      },
      "source": [
        "# 변수 기초통계량\n",
        "df_month.describe()"
      ],
      "execution_count": 85,
      "outputs": [
        {
          "output_type": "execute_result",
          "data": {
            "text/html": [
              "<div>\n",
              "<style scoped>\n",
              "    .dataframe tbody tr th:only-of-type {\n",
              "        vertical-align: middle;\n",
              "    }\n",
              "\n",
              "    .dataframe tbody tr th {\n",
              "        vertical-align: top;\n",
              "    }\n",
              "\n",
              "    .dataframe thead th {\n",
              "        text-align: right;\n",
              "    }\n",
              "</style>\n",
              "<table border=\"1\" class=\"dataframe\">\n",
              "  <thead>\n",
              "    <tr style=\"text-align: right;\">\n",
              "      <th></th>\n",
              "      <th>store_id</th>\n",
              "      <th>real_tot_day</th>\n",
              "      <th>real_business_day</th>\n",
              "      <th>num_of_pay</th>\n",
              "      <th>num_of_revisit</th>\n",
              "      <th>installment_term</th>\n",
              "      <th>amount</th>\n",
              "    </tr>\n",
              "  </thead>\n",
              "  <tbody>\n",
              "    <tr>\n",
              "      <th>count</th>\n",
              "      <td>60915.00000</td>\n",
              "      <td>60915.00000</td>\n",
              "      <td>60915.00000</td>\n",
              "      <td>60915.00000</td>\n",
              "      <td>60915.00000</td>\n",
              "      <td>60915.00000</td>\n",
              "      <td>60915.00000</td>\n",
              "    </tr>\n",
              "    <tr>\n",
              "      <th>mean</th>\n",
              "      <td>1050.48428</td>\n",
              "      <td>21.06987</td>\n",
              "      <td>15.89640</td>\n",
              "      <td>107.63544</td>\n",
              "      <td>40.01136</td>\n",
              "      <td>14.87540</td>\n",
              "      <td>1123187.83063</td>\n",
              "    </tr>\n",
              "    <tr>\n",
              "      <th>std</th>\n",
              "      <td>617.48320</td>\n",
              "      <td>7.75327</td>\n",
              "      <td>5.63136</td>\n",
              "      <td>101.24413</td>\n",
              "      <td>43.88133</td>\n",
              "      <td>33.42161</td>\n",
              "      <td>1753567.15171</td>\n",
              "    </tr>\n",
              "    <tr>\n",
              "      <th>min</th>\n",
              "      <td>0.00000</td>\n",
              "      <td>0.00000</td>\n",
              "      <td>0.00000</td>\n",
              "      <td>0.00000</td>\n",
              "      <td>0.00000</td>\n",
              "      <td>0.00000</td>\n",
              "      <td>-514285.71429</td>\n",
              "    </tr>\n",
              "    <tr>\n",
              "      <th>25%</th>\n",
              "      <td>515.00000</td>\n",
              "      <td>16.00000</td>\n",
              "      <td>12.00000</td>\n",
              "      <td>32.00000</td>\n",
              "      <td>11.00000</td>\n",
              "      <td>0.00000</td>\n",
              "      <td>339642.85714</td>\n",
              "    </tr>\n",
              "    <tr>\n",
              "      <th>50%</th>\n",
              "      <td>1039.00000</td>\n",
              "      <td>23.00000</td>\n",
              "      <td>17.00000</td>\n",
              "      <td>73.00000</td>\n",
              "      <td>26.00000</td>\n",
              "      <td>3.00000</td>\n",
              "      <td>710714.28571</td>\n",
              "    </tr>\n",
              "    <tr>\n",
              "      <th>75%</th>\n",
              "      <td>1587.00000</td>\n",
              "      <td>28.00000</td>\n",
              "      <td>21.00000</td>\n",
              "      <td>159.00000</td>\n",
              "      <td>54.00000</td>\n",
              "      <td>14.00000</td>\n",
              "      <td>1344650.00000</td>\n",
              "    </tr>\n",
              "    <tr>\n",
              "      <th>max</th>\n",
              "      <td>2136.00000</td>\n",
              "      <td>31.00000</td>\n",
              "      <td>23.00000</td>\n",
              "      <td>2186.00000</td>\n",
              "      <td>2154.00000</td>\n",
              "      <td>1125.00000</td>\n",
              "      <td>61429316.14286</td>\n",
              "    </tr>\n",
              "  </tbody>\n",
              "</table>\n",
              "</div>"
            ],
            "text/plain": [
              "         store_id  real_tot_day  real_business_day  num_of_pay  \\\n",
              "count 60915.00000   60915.00000        60915.00000 60915.00000   \n",
              "mean   1050.48428      21.06987           15.89640   107.63544   \n",
              "std     617.48320       7.75327            5.63136   101.24413   \n",
              "min       0.00000       0.00000            0.00000     0.00000   \n",
              "25%     515.00000      16.00000           12.00000    32.00000   \n",
              "50%    1039.00000      23.00000           17.00000    73.00000   \n",
              "75%    1587.00000      28.00000           21.00000   159.00000   \n",
              "max    2136.00000      31.00000           23.00000  2186.00000   \n",
              "\n",
              "       num_of_revisit  installment_term         amount  \n",
              "count     60915.00000       60915.00000    60915.00000  \n",
              "mean         40.01136          14.87540  1123187.83063  \n",
              "std          43.88133          33.42161  1753567.15171  \n",
              "min           0.00000           0.00000  -514285.71429  \n",
              "25%          11.00000           0.00000   339642.85714  \n",
              "50%          26.00000           3.00000   710714.28571  \n",
              "75%          54.00000          14.00000  1344650.00000  \n",
              "max        2154.00000        1125.00000 61429316.14286  "
            ]
          },
          "metadata": {
            "tags": []
          },
          "execution_count": 85
        }
      ]
    },
    {
      "cell_type": "code",
      "metadata": {
        "id": "BxhuQd527VK-",
        "colab_type": "code",
        "colab": {
          "base_uri": "https://localhost:8080/",
          "height": 70
        },
        "outputId": "29247839-9f0f-4de2-ca33-49b1a75573ee"
      },
      "source": [
        "# target변수의 대칭성 확인 (target = amount value)\n",
        "# 각 store_id의 3개의 값에 대해 대칭성을 먼저 판단하고 ( 기준 1) \n",
        "for i in df_month.store_id.unique()[:3]:\n",
        "  print(\"왜도: \", df_month[df_month.store_id == i].amount.skew())"
      ],
      "execution_count": 87,
      "outputs": [
        {
          "output_type": "stream",
          "text": [
            "왜도:  0.48245510908400735\n",
            "왜도:  0.5102521050694732\n",
            "왜도:  0.9982599271676977\n"
          ],
          "name": "stdout"
        }
      ]
    },
    {
      "cell_type": "markdown",
      "metadata": {
        "id": "LQxbsYNu9lKX",
        "colab_type": "text"
      },
      "source": [
        "## modeling\n",
        "- 1. simple moving average\n",
        "- 2. exponential moving average\n",
        "- 3. exponential smoothing( holt's, holt's winter)\n",
        "- 4. ARMA\n",
        "- 5. ARIMA"
      ]
    },
    {
      "cell_type": "markdown",
      "metadata": {
        "id": "2XBjyqpeHglx",
        "colab_type": "text"
      },
      "source": [
        "Simple moving average"
      ]
    },
    {
      "cell_type": "code",
      "metadata": {
        "id": "jq2CxAUK8OWP",
        "colab_type": "code",
        "colab": {}
      },
      "source": [
        "def make_sma_arr(window_num):\n",
        "  ma_arr = np.array([]) # moving average에 해당하는 A_i값의 평균값 저장 array, return vlaue \n",
        "\n",
        "  for i in df_month.store_id.unique():\n",
        "    df_set = df_month[df_month.store_id == i] # 마찬가지로 store_id에 따라 묶어서 진행\n",
        "    ma_arr = np.concatenate((ma_arr, df_set.amount.rolling(window=window_num).mean().values))\n",
        "  return ma_arr"
      ],
      "execution_count": 93,
      "outputs": []
    },
    {
      "cell_type": "code",
      "metadata": {
        "id": "_iRw_FdiIPy1",
        "colab_type": "code",
        "colab": {}
      },
      "source": [
        "sma_month = df_month.copy()"
      ],
      "execution_count": 101,
      "outputs": []
    },
    {
      "cell_type": "code",
      "metadata": {
        "id": "sIffeTW2IX1u",
        "colab_type": "code",
        "colab": {}
      },
      "source": [
        "sma_month.insert(7, 'amount_2ma', make_sma_arr(2))\n",
        "sma_month.insert(8, 'amount_3ma', make_sma_arr(3))\n",
        "sma_month.insert(9, 'amount_6ma', make_sma_arr(6))"
      ],
      "execution_count": 102,
      "outputs": []
    },
    {
      "cell_type": "code",
      "metadata": {
        "id": "HBiA28c4Ilzl",
        "colab_type": "code",
        "colab": {
          "base_uri": "https://localhost:8080/",
          "height": 190
        },
        "outputId": "86e437fd-2cef-4340-fd5b-a6740764f489"
      },
      "source": [
        "sma_month.head(3)"
      ],
      "execution_count": 103,
      "outputs": [
        {
          "output_type": "execute_result",
          "data": {
            "text/html": [
              "<div>\n",
              "<style scoped>\n",
              "    .dataframe tbody tr th:only-of-type {\n",
              "        vertical-align: middle;\n",
              "    }\n",
              "\n",
              "    .dataframe tbody tr th {\n",
              "        vertical-align: top;\n",
              "    }\n",
              "\n",
              "    .dataframe thead th {\n",
              "        text-align: right;\n",
              "    }\n",
              "</style>\n",
              "<table border=\"1\" class=\"dataframe\">\n",
              "  <thead>\n",
              "    <tr style=\"text-align: right;\">\n",
              "      <th></th>\n",
              "      <th>store_id</th>\n",
              "      <th>real_tot_day</th>\n",
              "      <th>real_business_day</th>\n",
              "      <th>num_of_pay</th>\n",
              "      <th>num_of_revisit</th>\n",
              "      <th>installment_term</th>\n",
              "      <th>amount</th>\n",
              "      <th>amount_2ma</th>\n",
              "      <th>amount_3ma</th>\n",
              "      <th>amount_6ma</th>\n",
              "    </tr>\n",
              "    <tr>\n",
              "      <th>transacted_date</th>\n",
              "      <th></th>\n",
              "      <th></th>\n",
              "      <th></th>\n",
              "      <th></th>\n",
              "      <th></th>\n",
              "      <th></th>\n",
              "      <th></th>\n",
              "      <th></th>\n",
              "      <th></th>\n",
              "      <th></th>\n",
              "    </tr>\n",
              "  </thead>\n",
              "  <tbody>\n",
              "    <tr>\n",
              "      <th>2016-06-30</th>\n",
              "      <td>0</td>\n",
              "      <td>25</td>\n",
              "      <td>17.00000</td>\n",
              "      <td>145.00000</td>\n",
              "      <td>77.00000</td>\n",
              "      <td>13.00000</td>\n",
              "      <td>747000.00000</td>\n",
              "      <td>nan</td>\n",
              "      <td>nan</td>\n",
              "      <td>nan</td>\n",
              "    </tr>\n",
              "    <tr>\n",
              "      <th>2016-07-31</th>\n",
              "      <td>0</td>\n",
              "      <td>26</td>\n",
              "      <td>16.00000</td>\n",
              "      <td>178.00000</td>\n",
              "      <td>105.00000</td>\n",
              "      <td>24.00000</td>\n",
              "      <td>1005000.00000</td>\n",
              "      <td>876000.00000</td>\n",
              "      <td>nan</td>\n",
              "      <td>nan</td>\n",
              "    </tr>\n",
              "    <tr>\n",
              "      <th>2016-08-31</th>\n",
              "      <td>0</td>\n",
              "      <td>24</td>\n",
              "      <td>16.00000</td>\n",
              "      <td>171.00000</td>\n",
              "      <td>97.00000</td>\n",
              "      <td>69.00000</td>\n",
              "      <td>871571.42857</td>\n",
              "      <td>938285.71429</td>\n",
              "      <td>874523.80952</td>\n",
              "      <td>nan</td>\n",
              "    </tr>\n",
              "  </tbody>\n",
              "</table>\n",
              "</div>"
            ],
            "text/plain": [
              "                 store_id  real_tot_day  real_business_day  num_of_pay  \\\n",
              "transacted_date                                                          \n",
              "2016-06-30              0            25           17.00000   145.00000   \n",
              "2016-07-31              0            26           16.00000   178.00000   \n",
              "2016-08-31              0            24           16.00000   171.00000   \n",
              "\n",
              "                 num_of_revisit  installment_term        amount   amount_2ma  \\\n",
              "transacted_date                                                                \n",
              "2016-06-30             77.00000          13.00000  747000.00000          nan   \n",
              "2016-07-31            105.00000          24.00000 1005000.00000 876000.00000   \n",
              "2016-08-31             97.00000          69.00000  871571.42857 938285.71429   \n",
              "\n",
              "                  amount_3ma  amount_6ma  \n",
              "transacted_date                           \n",
              "2016-06-30               nan         nan  \n",
              "2016-07-31               nan         nan  \n",
              "2016-08-31      874523.80952         nan  "
            ]
          },
          "metadata": {
            "tags": []
          },
          "execution_count": 103
        }
      ]
    },
    {
      "cell_type": "code",
      "metadata": {
        "id": "pAJ7WIydIvyF",
        "colab_type": "code",
        "colab": {
          "base_uri": "https://localhost:8080/",
          "height": 70
        },
        "outputId": "ffaeea65-fba0-4e25-f306-1acd958d775c"
      },
      "source": [
        "# metric\n",
        "print(\"2 winodw SMA MAE Score : \", mae(sma_month.amount_2ma.fillna(0), sma_month.amount.values))\n",
        "print(\"3 window SMA MAE Score : \", mae(sma_month.amount_3ma.fillna(0), sma_month.amount.values))\n",
        "print(\"6 window SMA MAE Score : \", mae(sma_month.amount_6ma.fillna(0), sma_month.amount.values))"
      ],
      "execution_count": 104,
      "outputs": [
        {
          "output_type": "stream",
          "text": [
            "2 winodw SMA MAE Score :  180687.25906004856\n",
            "3 window SMA MAE Score :  251607.45528312284\n",
            "6 window SMA MAE Score :  387465.0993765708\n"
          ],
          "name": "stdout"
        }
      ]
    },
    {
      "cell_type": "code",
      "metadata": {
        "id": "okJCwoEMI4qZ",
        "colab_type": "code",
        "colab": {}
      },
      "source": [
        "# rolling에 대한 t시점의 평균을 지정한 window에 따라 average를 설정해야 한다.\n",
        "# amount값을 조정하여 잎의 3달의 값을 예측한다  \n",
        "def make_minus_rolling(data_frame, rolling_num):\n",
        "    def minus_shift_rolling(df_num, num):\n",
        "        a = np.average(df_num.values[-num:])\n",
        "        b = np.average(np.append(df_set.values[-(num-1):], a))\n",
        "        if num > 2:\n",
        "            c = np.average(np.append(np.append(df_set.values[-(num-2):], a), b))\n",
        "        else:\n",
        "            c = np.average((a, b))\n",
        "        return np.sum((a, b, c))\n",
        "\n",
        "    minus_rolling_arr = np.array([])\n",
        "    for i in data_frame.store_id.unique():\n",
        "        df_set = pd.DataFrame(data_frame[data_frame.store_id == i].amount)\n",
        "        minus_rolling_arr = np.concatenate((minus_rolling_arr, np.array([minus_shift_rolling(df_set, rolling_num)])))\n",
        "        \n",
        "    submission['amount'] = minus_rolling_arr\n",
        "    df_rolling = submission\n",
        "    \n",
        "    return df_rolling"
      ],
      "execution_count": 115,
      "outputs": []
    },
    {
      "cell_type": "code",
      "metadata": {
        "id": "VbIZ3B1lLzUA",
        "colab_type": "code",
        "colab": {}
      },
      "source": [
        "for i in range(2, 5):\n",
        "    df_rolling = make_minus_rolling(df_month, i)\n",
        "    df_rolling.to_csv('funda_{}_rolling_sub_re.csv'.format(i), index=False)"
      ],
      "execution_count": 116,
      "outputs": []
    },
    {
      "cell_type": "code",
      "metadata": {
        "id": "UMOtlJ7ZNNkN",
        "colab_type": "code",
        "colab": {}
      },
      "source": [
        ""
      ],
      "execution_count": null,
      "outputs": []
    },
    {
      "cell_type": "markdown",
      "metadata": {
        "id": "pm1nRWWYO62-",
        "colab_type": "text"
      },
      "source": [
        "expoential moveing average"
      ]
    },
    {
      "cell_type": "code",
      "metadata": {
        "id": "ALaPb1KvO-3s",
        "colab_type": "code",
        "colab": {}
      },
      "source": [
        "def make_ewm_arr(data_frame, span_num):\n",
        "  arr_ewm = np.array([]) #반환할 expoential data for month\n",
        "\n",
        "  for i in data_frame.store_id.unique():\n",
        "    df_set = data_frame[data_frame.store_id == i]\n",
        "    # 여기에서 지정하는 span값은 위 수식에서 N에 해당한다.\n",
        "    arr_ewm = np.concatenate((arr_ewm, df_set.amount.ewm(span=span_num).mean().values))\n",
        "    \n",
        "  return arr_ewm"
      ],
      "execution_count": 118,
      "outputs": []
    },
    {
      "cell_type": "code",
      "metadata": {
        "id": "WsYVPa4rPVtK",
        "colab_type": "code",
        "colab": {}
      },
      "source": [
        "ewm_month = df_month.copy()"
      ],
      "execution_count": 122,
      "outputs": []
    },
    {
      "cell_type": "code",
      "metadata": {
        "id": "3SViOzA5PdiF",
        "colab_type": "code",
        "colab": {}
      },
      "source": [
        "ewm_month.insert(7, 'amount_3ewm', make_ewm_arr(df_month, 3))\n",
        "ewm_month.insert(8, 'amount_6ewm', make_ewm_arr(df_month, 6))"
      ],
      "execution_count": 123,
      "outputs": []
    },
    {
      "cell_type": "code",
      "metadata": {
        "id": "tVG7XeyhPfNV",
        "colab_type": "code",
        "colab": {
          "base_uri": "https://localhost:8080/",
          "height": 52
        },
        "outputId": "59533f19-a19c-477c-b699-8fc45ed3f965"
      },
      "source": [
        "print(\"3 N EWM MAE Score : \", mae(ewm_month.amount_3ewm, sma_month.amount.values))\n",
        "print(\"6 N EWM MAE Score : \", mae(ewm_month.amount_6ewm, sma_month.amount.values))"
      ],
      "execution_count": 124,
      "outputs": [
        {
          "output_type": "stream",
          "text": [
            "3 N EWM MAE Score :  134855.11946915495\n",
            "6 N EWM MAE Score :  193447.63093078104\n"
          ],
          "name": "stdout"
        }
      ]
    },
    {
      "cell_type": "code",
      "metadata": {
        "id": "reeoixRCPhur",
        "colab_type": "code",
        "colab": {}
      },
      "source": [
        "# exponential weighted moving score확인 \n",
        "def make_wma_sub(data_frame, span_num):\n",
        "    concat_3mon = pd.DataFrame(index=pd.to_datetime(['2019-03-31', '2019-04-30', '2019-05-31']))\n",
        "    wma_sub = np.array([])\n",
        "\n",
        "    for i in df_month.store_id.unique():\n",
        "        df_set = pd.DataFrame(data_frame[data_frame.store_id == i].amount)\n",
        "        wma_train = pd.concat([df_set, concat_3mon], axis=0)\n",
        "\n",
        "        num_sub = np.array([wma_train.amount.ewm(span=span_num).mean()['2019-03':].sum()])\n",
        "\n",
        "        wma_sub = np.concatenate((wma_sub, num_sub))\n",
        "    \n",
        "    submission['amount'] = wma_sub\n",
        "    df_wma_sub = submission\n",
        "    \n",
        "    return df_wma_sub"
      ],
      "execution_count": 131,
      "outputs": []
    },
    {
      "cell_type": "code",
      "metadata": {
        "id": "uUMkCxNYPp5Q",
        "colab_type": "code",
        "colab": {}
      },
      "source": [
        "for i in range(2, 7):\n",
        "    wma_sub = make_wma_sub(df_month, i)\n",
        "    wma_sub.to_csv('funda_{}wma_sub.csv'.format(i), index=False)"
      ],
      "execution_count": 132,
      "outputs": []
    },
    {
      "cell_type": "code",
      "metadata": {
        "id": "-bNad0rWPt7F",
        "colab_type": "code",
        "colab": {}
      },
      "source": [
        ""
      ],
      "execution_count": null,
      "outputs": []
    }
  ]
}